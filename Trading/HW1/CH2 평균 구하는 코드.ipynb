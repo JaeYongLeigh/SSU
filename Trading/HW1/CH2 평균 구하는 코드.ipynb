{
 "cells": [
  {
   "cell_type": "code",
   "execution_count": 38,
   "metadata": {},
   "outputs": [],
   "source": [
    "f = open(\"sample.txt\")\n",
    "\n",
    "lines = f.readlines()\n",
    "lines\n",
    "\n",
    "f.close()\n",
    "\n",
    "total = 0\n",
    "\n",
    "for line in lines:\n",
    "    score = int(line.replace('\\n',''))\n",
    "    total += score\n",
    "    \n",
    "average = total / len(lines)\n",
    "\n",
    "f = open(\"result.txt\", 'w')\n",
    "f.write(str(average))\n",
    "f.close()"
   ]
  },
  {
   "cell_type": "code",
   "execution_count": null,
   "metadata": {},
   "outputs": [],
   "source": []
  }
 ],
 "metadata": {
  "kernelspec": {
   "display_name": "Python 3",
   "language": "python",
   "name": "python3"
  },
  "language_info": {
   "codemirror_mode": {
    "name": "ipython",
    "version": 3
   },
   "file_extension": ".py",
   "mimetype": "text/x-python",
   "name": "python",
   "nbconvert_exporter": "python",
   "pygments_lexer": "ipython3",
   "version": "3.6.4"
  }
 },
 "nbformat": 4,
 "nbformat_minor": 2
}
