{
 "cells": [
  {
   "cell_type": "code",
   "execution_count": 44,
   "metadata": {},
   "outputs": [],
   "source": [
    "import pandas as pd"
   ]
  },
  {
   "cell_type": "code",
   "execution_count": 68,
   "metadata": {},
   "outputs": [],
   "source": [
    "class HouseLee():\n",
    "    def __init__(self):\n",
    "        print(\"HouseLee's phonebook\")\n",
    "        print(\"This class is born by JaeYong Leeee\")\n",
    "        print(\"This phonebook is only for LEE\")\n",
    "        \n",
    "        try:\n",
    "            self.phonebook = pd.read_csv('Lee_family_info.csv')\n",
    "        except:\n",
    "            self.phonebook = pd.DataFrame()\n",
    "    \n",
    "    \n",
    "    def save_new_record(self, name,number,hotline):\n",
    "        \n",
    "        temp_df = pd.DataFrame({'이름' :[str(name)],\n",
    "                                '번호' :[str(number)],\n",
    "                                '단축번호' :[str(hotline)]})\n",
    "        \n",
    "        self.phonebook = pd.concat([self.phonebook, temp_df], axis = 0)\n",
    "    "
   ]
  },
  {
   "cell_type": "code",
   "execution_count": 70,
   "metadata": {},
   "outputs": [
    {
     "name": "stdout",
     "output_type": "stream",
     "text": [
      "HouseLee's phonebook\n",
      "This class is born by JaeYong Leeee\n",
      "This phonebook is only for LEE\n",
      "Empty DataFrame\n",
      "Columns: []\n",
      "Index: []\n"
     ]
    }
   ],
   "source": [
    "a = HouseLee() \n",
    "\n",
    "print(a.phonebook)\n",
    "a.save_new_record('이재용', '010-xxxx-xxxx', '1')"
   ]
  }
 ],
 "metadata": {
  "kernelspec": {
   "display_name": "Python 3",
   "language": "python",
   "name": "python3"
  },
  "language_info": {
   "codemirror_mode": {
    "name": "ipython",
    "version": 3
   },
   "file_extension": ".py",
   "mimetype": "text/x-python",
   "name": "python",
   "nbconvert_exporter": "python",
   "pygments_lexer": "ipython3",
   "version": "3.6.4"
  }
 },
 "nbformat": 4,
 "nbformat_minor": 2
}
