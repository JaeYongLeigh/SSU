{
 "cells": [
  {
   "cell_type": "code",
   "execution_count": 7,
   "metadata": {},
   "outputs": [],
   "source": [
    "import win32com.client\n",
    "explore = win32com.client.Dispatch(\"InternetExplorer.Application\")\n",
    "explore.Visible = True"
   ]
  },
  {
   "cell_type": "code",
   "execution_count": 8,
   "metadata": {},
   "outputs": [],
   "source": [
    "excel = win32com.client.Dispatch(\"Excel.Application\")\n",
    "excel.Visible = True"
   ]
  },
  {
   "cell_type": "code",
   "execution_count": 11,
   "metadata": {},
   "outputs": [],
   "source": [
    "wb = excel.Workbooks.Add.\n",
    "ws = wb.Worksheets(\"sheet1\")"
   ]
  },
  {
   "cell_type": "code",
   "execution_count": 12,
   "metadata": {},
   "outputs": [],
   "source": [
    "ws.Cells(1,1).Value = \"Hello world\""
   ]
  },
  {
   "cell_type": "code",
   "execution_count": 16,
   "metadata": {},
   "outputs": [],
   "source": [
    "import json\n",
    "import urllib.request"
   ]
  },
  {
   "cell_type": "code",
   "execution_count": 18,
   "metadata": {},
   "outputs": [
    {
     "name": "stdout",
     "output_type": "stream",
     "text": [
      "{'status': '0000', 'data': {'opening_price': '7478000', 'closing_price': '7476000', 'min_price': '7432000', 'max_price': '7509000', 'average_price': '7472823.1005', 'units_traded': '5344.45891775', 'volume_1day': '5344.45891775', 'volume_7day': '157916.52240157', 'buy_price': '7478000', 'sell_price': '7485000', '24H_fluctate': -2000, '24H_fluctate_rate': '-0.02', 'date': '1538965747652'}}\n"
     ]
    }
   ],
   "source": [
    "urlTicker = urllib.request.urlopen('https://api.bithumb.com/public/ticker/BTC')\n",
    "readTicker = urlTicker.read()\n",
    "dict = json.loads(readTicker)\n",
    "print(dict)"
   ]
  },
  {
   "cell_type": "code",
   "execution_count": 29,
   "metadata": {},
   "outputs": [
    {
     "data": {
      "text/plain": [
       "{'opening_price': '7478000',\n",
       " 'closing_price': '7476000',\n",
       " 'min_price': '7432000',\n",
       " 'max_price': '7509000',\n",
       " 'average_price': '7472823.1005',\n",
       " 'units_traded': '5344.45891775',\n",
       " 'volume_1day': '5344.45891775',\n",
       " 'volume_7day': '157916.52240157',\n",
       " 'buy_price': '7478000',\n",
       " 'sell_price': '7485000',\n",
       " '24H_fluctate': -2000,\n",
       " '24H_fluctate_rate': '-0.02',\n",
       " 'date': '1538965747652'}"
      ]
     },
     "execution_count": 29,
     "metadata": {},
     "output_type": "execute_result"
    }
   ],
   "source": [
    "dict['data']"
   ]
  },
  {
   "cell_type": "code",
   "execution_count": 31,
   "metadata": {},
   "outputs": [],
   "source": [
    "import pandas as pd"
   ]
  },
  {
   "cell_type": "code",
   "execution_count": 34,
   "metadata": {},
   "outputs": [],
   "source": [
    "currency_ls = ['BTC', 'ETH']\n",
    "for i in currency_ls:\n",
    "    address = 'https://api.bithumb.com/public/transaction_history/%s?count=100' %i\n",
    "    urlTicker = urllib.request.urlopen(address)\n",
    "    readTicker = urlTicker.read()\n",
    "    dict_ =json.loads(readTicker) \n",
    "    \n",
    "    pd.DataFrame(dict_['data']).to_csv('%s.csv'%i)"
   ]
  },
  {
   "cell_type": "code",
   "execution_count": null,
   "metadata": {},
   "outputs": [],
   "source": []
  },
  {
   "cell_type": "code",
   "execution_count": null,
   "metadata": {},
   "outputs": [],
   "source": []
  }
 ],
 "metadata": {
  "kernelspec": {
   "display_name": "Python 3",
   "language": "python",
   "name": "python3"
  },
  "language_info": {
   "codemirror_mode": {
    "name": "ipython",
    "version": 3
   },
   "file_extension": ".py",
   "mimetype": "text/x-python",
   "name": "python",
   "nbconvert_exporter": "python",
   "pygments_lexer": "ipython3",
   "version": "3.7.0"
  }
 },
 "nbformat": 4,
 "nbformat_minor": 2
}
